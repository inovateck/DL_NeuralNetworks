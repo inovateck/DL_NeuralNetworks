{
  "nbformat": 4,
  "nbformat_minor": 0,
  "metadata": {
    "colab": {
      "name": "UNeuralNetworks.ipynb",
      "provenance": [],
      "authorship_tag": "ABX9TyNnOvTe83+2SrHxSd61UjO6",
      "include_colab_link": true
    },
    "kernelspec": {
      "name": "python3",
      "display_name": "Python 3"
    },
    "language_info": {
      "name": "python"
    }
  },
  "cells": [
    {
      "cell_type": "markdown",
      "metadata": {
        "id": "view-in-github",
        "colab_type": "text"
      },
      "source": [
        "<a href=\"https://colab.research.google.com/github/inovateck/DL_NeuralNetworks/blob/main/UNeuralNetworks.ipynb\" target=\"_parent\"><img src=\"https://colab.research.google.com/assets/colab-badge.svg\" alt=\"Open In Colab\"/></a>"
      ]
    },
    {
      "cell_type": "code",
      "execution_count": null,
      "metadata": {
        "id": "jwL5_oQibp8l"
      },
      "outputs": [],
      "source": [
        "#abc\n",
        "import numpy as np \n",
        "import matplotlib.pyplot as plt \n",
        "from sklearn.datasets import make_blobs"
      ]
    },
    {
      "cell_type": "code",
      "source": [
        "X,y=make_blobs(n_samples=100, n_features=2,centers=2, random_state=0)\n",
        "y=y.reshape((y.shape[0],1))\n",
        "\n",
        "plt.scatter(X[:,0],X[:,1],c=y,cmap='summer')\n",
        "plt.show()"
      ],
      "metadata": {
        "colab": {
          "base_uri": "https://localhost:8080/",
          "height": 265
        },
        "id": "PyBzPsDfcwYM",
        "outputId": "0d545473-a04f-43e7-8f2a-3130d12bf988"
      },
      "execution_count": null,
      "outputs": [
        {
          "output_type": "display_data",
          "data": {
            "image/png": "[encoded data removed]",
            "text/plain": [
              "<Figure size 432x288 with 1 Axes>"
            ]
          },
          "metadata": {
            "needs_background": "light"
          }
        }
      ]
    },
    {
      "cell_type": "code",
      "source": [
        "def predict(X,w,b):\n",
        "  a=model(X,w,b)\n",
        "  print(a)\n",
        "  return a>=0.5\n",
        "a=predict(x,w,b)\n",
        "a.shape"
      ],
      "metadata": {
        "colab": {
          "base_uri": "https://localhost:8080/"
        },
        "id": "-hATQaCjMc6J",
        "outputId": "ac3aa3ef-afb5-41e9-a17c-2172d698262c"
      },
      "execution_count": null,
      "outputs": [
        {
          "output_type": "stream",
          "name": "stdout",
          "text": [
            "[0.38774361]\n"
          ]
        },
        {
          "output_type": "execute_result",
          "data": {
            "text/plain": [
              "(1,)"
            ]
          },
          "metadata": {},
          "execution_count": 139
        }
      ]
    },
    {
      "cell_type": "code",
      "source": [
        "def init (X):\n",
        "  w=np.random.randn(X.shape[1],1)\n",
        "  b=np.random.randn(1)\n",
        "  return w,b"
      ],
      "metadata": {
        "id": "X1KwAPuteuZI"
      },
      "execution_count": null,
      "outputs": []
    },
    {
      "cell_type": "code",
      "source": [
        "w,b=init(X)\n",
        "def model(X,w,b):\n",
        "  z=X.dot(w)+b\n",
        "  a=1/(1+np.exp(-z))\n",
        "  return a\n",
        "a=model(X,w,b)\n",
        "a.shape"
      ],
      "metadata": {
        "colab": {
          "base_uri": "https://localhost:8080/"
        },
        "id": "XA8ps6v6eudo",
        "outputId": "f695cd27-eabe-4d5d-cad2-9e6c1ddb446c"
      },
      "execution_count": null,
      "outputs": [
        {
          "output_type": "execute_result",
          "data": {
            "text/plain": [
              "(100, 1)"
            ]
          },
          "metadata": {},
          "execution_count": 141
        }
      ]
    },
    {
      "cell_type": "code",
      "source": [
        "def log_l(a,y):\n",
        "  return 1/len(y) * np.sum(-y * np.log(a) + (1-y) * np.log(1-a)) \n",
        "\n",
        "l=log_l(a,y)"
      ],
      "metadata": {
        "id": "IxI4l77Geuib"
      },
      "execution_count": null,
      "outputs": []
    },
    {
      "cell_type": "code",
      "source": [
        "def gradients (a,X,y):\n",
        "  dw=1/len(y) * np.dot(X.T,a-y)\n",
        "  db=1/len(y) * np.sum(a-y)\n",
        "  return dw,db \n",
        "d=gradients(a,X,y)\n",
        "d"
      ],
      "metadata": {
        "colab": {
          "base_uri": "https://localhost:8080/"
        },
        "id": "u9KuQ0KYeumR",
        "outputId": "288218b2-176c-48c6-c71e-d3e24dc08ad8"
      },
      "execution_count": null,
      "outputs": [
        {
          "output_type": "execute_result",
          "data": {
            "text/plain": [
              "(array([[-0.93087447],\n",
              "        [-0.53915059]]), -0.44489623523955635)"
            ]
          },
          "metadata": {},
          "execution_count": 143
        }
      ]
    },
    {
      "cell_type": "code",
      "source": [
        "def update (dw,db,w,b,l_r):\n",
        "  w=w-l_r*dw\n",
        "  b=b-l_r*db\n",
        "  return w,b\n"
      ],
      "metadata": {
        "id": "GWhohi77eupT"
      },
      "execution_count": null,
      "outputs": []
    },
    {
      "cell_type": "code",
      "source": [
        "from sklearn.metrics import accuracy_score\n",
        "def neuron(X,l_r,it):\n",
        "  l_function=[]\n",
        "  w,b=init(X)\n",
        "  for i in range(it):\n",
        "    a=model(X,w,b)\n",
        "    l_function.append(log_l(a,y))\n",
        "    dw,db=gradients(a,X,y)\n",
        "    w,b=update(dw,db,w,b,l_r)\n",
        "  y_pred=predict(X,w,b)\n",
        "  print(accuracy_score(y,y_pred))\n",
        "  plt.plot(l_function)\n",
        "  plt.show()\n",
        "  return w,b\n",
        "\n",
        "\n"
      ],
      "metadata": {
        "id": "Z0WUCnAzeur-"
      },
      "execution_count": null,
      "outputs": []
    },
    {
      "cell_type": "code",
      "source": [
        "neuron(X,0.1,100)"
      ],
      "metadata": {
        "colab": {
          "base_uri": "https://localhost:8080/",
          "height": 1000
        },
        "id": "GE6905wAHZmE",
        "outputId": "72c13347-4726-48d1-b981-193652d60487"
      },
      "execution_count": null,
      "outputs": [
        {
          "output_type": "stream",
          "name": "stdout",
          "text": [
            "[[0.92080697]\n",
            " [0.85895423]\n",
            " [0.00970185]\n",
            " [0.25549727]\n",
            " [0.94527291]\n",
            " [0.38371261]\n",
            " [0.08219443]\n",
            " [0.88939933]\n",
            " [0.0668872 ]\n",
            " [0.91593549]\n",
            " [0.04132862]\n",
            " [0.90173472]\n",
            " [0.02529773]\n",
            " [0.02977715]\n",
            " [0.7448403 ]\n",
            " [0.95680537]\n",
            " [0.98841359]\n",
            " [0.05711052]\n",
            " [0.8449151 ]\n",
            " [0.72440216]\n",
            " [0.04790254]\n",
            " [0.0476201 ]\n",
            " [0.45198121]\n",
            " [0.0090253 ]\n",
            " [0.94660903]\n",
            " [0.03763606]\n",
            " [0.93075856]\n",
            " [0.00841079]\n",
            " [0.06309738]\n",
            " [0.71541056]\n",
            " [0.97912986]\n",
            " [0.04864262]\n",
            " [0.77975323]\n",
            " [0.97930745]\n",
            " [0.42506128]\n",
            " [0.18486233]\n",
            " [0.83809737]\n",
            " [0.54040875]\n",
            " [0.43246148]\n",
            " [0.61944919]\n",
            " [0.13422133]\n",
            " [0.04162605]\n",
            " [0.00168352]\n",
            " [0.17789047]\n",
            " [0.26422749]\n",
            " [0.83597082]\n",
            " [0.97302068]\n",
            " [0.97258621]\n",
            " [0.0102847 ]\n",
            " [0.01157277]\n",
            " [0.94983847]\n",
            " [0.70155878]\n",
            " [0.02468503]\n",
            " [0.03878209]\n",
            " [0.71559111]\n",
            " [0.04561583]\n",
            " [0.61703064]\n",
            " [0.86320334]\n",
            " [0.93250945]\n",
            " [0.99050334]\n",
            " [0.71412849]\n",
            " [0.15358979]\n",
            " [0.00814824]\n",
            " [0.91015179]\n",
            " [0.0138153 ]\n",
            " [0.38965398]\n",
            " [0.06242132]\n",
            " [0.50674534]\n",
            " [0.91504431]\n",
            " [0.25339246]\n",
            " [0.19704352]\n",
            " [0.94154558]\n",
            " [0.9379942 ]\n",
            " [0.09793754]\n",
            " [0.21282263]\n",
            " [0.05904278]\n",
            " [0.64100033]\n",
            " [0.84024311]\n",
            " [0.07066091]\n",
            " [0.03915636]\n",
            " [0.32598779]\n",
            " [0.11397608]\n",
            " [0.00763967]\n",
            " [0.10107907]\n",
            " [0.15426926]\n",
            " [0.02044904]\n",
            " [0.96108295]\n",
            " [0.04428177]\n",
            " [0.86312315]\n",
            " [0.95086158]\n",
            " [0.87068266]\n",
            " [0.97626929]\n",
            " [0.5415315 ]\n",
            " [0.96210954]\n",
            " [0.23271803]\n",
            " [0.00385077]\n",
            " [0.98700583]\n",
            " [0.94893597]\n",
            " [0.02283591]\n",
            " [0.55711125]]\n",
            "0.92\n"
          ]
        },
        {
          "output_type": "display_data",
          "data": {
            "image/png": "[encoded data removed]",
            "text/plain": [
              "<Figure size 432x288 with 1 Axes>"
            ]
          },
          "metadata": {
            "needs_background": "light"
          }
        },
        {
          "output_type": "execute_result",
          "data": {
            "text/plain": [
              "(array([[ 0.8276247 ],\n",
              "        [-1.17975168]]), array([1.59781573]))"
            ]
          },
          "metadata": {},
          "execution_count": 146
        }
      ]
    },
    {
      "cell_type": "code",
      "source": [
        "\n",
        "plt.scatter(X[:,0],X[:,1],c=y,cmap='summer')\n",
        "plt.show()"
      ],
      "metadata": {
        "colab": {
          "base_uri": "https://localhost:8080/",
          "height": 265
        },
        "id": "1vyv6HBvMa4-",
        "outputId": "85c7fcb9-f273-4c74-ccdb-51645e98667d"
      },
      "execution_count": null,
      "outputs": [
        {
          "output_type": "display_data",
          "data": {
            "image/png": "[encoded data removed]",
            "text/plain": [
              "<Figure size 432x288 with 1 Axes>"
            ]
          },
          "metadata": {
            "needs_background": "light"
          }
        }
      ]
    },
    {
      "cell_type": "code",
      "source": [
        "x=np.array([2,1])\n",
        "plt.scatter(X[:,0],X[:,1],c=y,cmap='summer')\n",
        "plt.scatter(x[0],x[1],c='b')\n",
        "plt.show()"
      ],
      "metadata": {
        "colab": {
          "base_uri": "https://localhost:8080/",
          "height": 265
        },
        "id": "ccB06-m9XDi_",
        "outputId": "15a94c4b-0b97-4651-bfa8-dac41d8957a6"
      },
      "execution_count": null,
      "outputs": [
        {
          "output_type": "display_data",
          "data": {
            "image/png": "[encoded data removed]",
            "text/plain": [
              "<Figure size 432x288 with 1 Axes>"
            ]
          },
          "metadata": {
            "needs_background": "light"
          }
        }
      ]
    },
    {
      "cell_type": "markdown",
      "source": [
        "# draw frontiere de decision :"
      ],
      "metadata": {
        "id": "4sqtMC4iYiPX"
      }
    },
    {
      "cell_type": "code",
      "source": [
        "u=np.linspace(-1,5,100)\n",
        "v=(-w[0]*u-b)/w[1]\n",
        "v"
      ],
      "metadata": {
        "colab": {
          "base_uri": "https://localhost:8080/"
        },
        "id": "1WRtVjl0dpSE",
        "outputId": "e3a0481e-c95a-4c41-cc3e-1e6af9754ccb"
      },
      "execution_count": null,
      "outputs": [
        {
          "output_type": "execute_result",
          "data": {
            "text/plain": [
              "array([ 0.3986368 ,  0.36850793,  0.33837907,  0.3082502 ,  0.27812133,\n",
              "        0.24799247,  0.2178636 ,  0.18773473,  0.15760587,  0.127477  ,\n",
              "        0.09734813,  0.06721926,  0.0370904 ,  0.00696153, -0.02316734,\n",
              "       -0.0532962 , -0.08342507, -0.11355394, -0.14368281, -0.17381167,\n",
              "       -0.20394054, -0.23406941, -0.26419827, -0.29432714, -0.32445601,\n",
              "       -0.35458487, -0.38471374, -0.41484261, -0.44497148, -0.47510034,\n",
              "       -0.50522921, -0.53535808, -0.56548694, -0.59561581, -0.62574468,\n",
              "       -0.65587354, -0.68600241, -0.71613128, -0.74626015, -0.77638901,\n",
              "       -0.80651788, -0.83664675, -0.86677561, -0.89690448, -0.92703335,\n",
              "       -0.95716221, -0.98729108, -1.01741995, -1.04754882, -1.07767768,\n",
              "       -1.10780655, -1.13793542, -1.16806428, -1.19819315, -1.22832202,\n",
              "       -1.25845089, -1.28857975, -1.31870862, -1.34883749, -1.37896635,\n",
              "       -1.40909522, -1.43922409, -1.46935295, -1.49948182, -1.52961069,\n",
              "       -1.55973956, -1.58986842, -1.61999729, -1.65012616, -1.68025502,\n",
              "       -1.71038389, -1.74051276, -1.77064162, -1.80077049, -1.83089936,\n",
              "       -1.86102823, -1.89115709, -1.92128596, -1.95141483, -1.98154369,\n",
              "       -2.01167256, -2.04180143, -2.07193029, -2.10205916, -2.13218803,\n",
              "       -2.1623169 , -2.19244576, -2.22257463, -2.2527035 , -2.28283236,\n",
              "       -2.31296123, -2.3430901 , -2.37321897, -2.40334783, -2.4334767 ,\n",
              "       -2.46360557, -2.49373443, -2.5238633 , -2.55399217, -2.58412103])"
            ]
          },
          "metadata": {},
          "execution_count": 149
        }
      ]
    },
    {
      "cell_type": "code",
      "source": [
        "\n",
        "plt.scatter(X[:,0],X[:,1],c=y,cmap='summer')\n",
        "plt.scatter(x[0],x[1],c='b')\n",
        "plt.plot(u,v,c='orange',lw=2)\n",
        "plt.show()\n",
        "predict(X,w,b)"
      ],
      "metadata": {
        "colab": {
          "base_uri": "https://localhost:8080/",
          "height": 1000
        },
        "id": "Gm8bXvCJeKr0",
        "outputId": "c873f8c9-3cac-401a-d157-5851609e50c3"
      },
      "execution_count": null,
      "outputs": [
        {
          "output_type": "display_data",
          "data": {
            "image/png": "[encoded data removed]",
            "text/plain": [
              "<Figure size 432x288 with 1 Axes>"
            ]
          },
          "metadata": {
            "needs_background": "light"
          }
        },
        {
          "output_type": "stream",
          "name": "stdout",
          "text": [
            "[[2.96107693e-03]\n",
            " [2.09772689e-01]\n",
            " [1.32656451e-03]\n",
            " [3.77324652e-02]\n",
            " [2.09797531e-02]\n",
            " [8.95425452e-03]\n",
            " [2.01602311e-03]\n",
            " [2.86744808e-03]\n",
            " [3.10832891e-03]\n",
            " [2.27883877e-01]\n",
            " [1.66077919e-03]\n",
            " [1.09560295e-01]\n",
            " [3.93670559e-04]\n",
            " [2.74192902e-03]\n",
            " [2.84726247e-02]\n",
            " [4.28716720e-03]\n",
            " [1.22615469e-01]\n",
            " [4.03324508e-03]\n",
            " [2.34140301e-01]\n",
            " [5.43520404e-02]\n",
            " [8.94289955e-04]\n",
            " [1.84958194e-03]\n",
            " [1.48497587e-02]\n",
            " [1.06566147e-03]\n",
            " [5.91241962e-02]\n",
            " [1.01424148e-03]\n",
            " [2.53737151e-01]\n",
            " [1.54757712e-04]\n",
            " [7.85173213e-04]\n",
            " [1.00709981e-02]\n",
            " [1.89634016e-01]\n",
            " [1.04634522e-03]\n",
            " [1.19402147e-01]\n",
            " [1.86410434e-01]\n",
            " [8.19574200e-03]\n",
            " [9.53832944e-04]\n",
            " [9.51567030e-02]\n",
            " [7.71403150e-03]\n",
            " [3.90114415e-03]\n",
            " [9.49932440e-02]\n",
            " [2.04231598e-02]\n",
            " [8.67984097e-05]\n",
            " [3.82276883e-04]\n",
            " [3.06765620e-03]\n",
            " [1.16822752e-02]\n",
            " [2.67565628e-02]\n",
            " [2.51491671e-01]\n",
            " [3.51281661e-01]\n",
            " [2.56314427e-03]\n",
            " [4.24914913e-04]\n",
            " [1.52526497e-01]\n",
            " [1.03650440e-01]\n",
            " [5.10287527e-05]\n",
            " [5.09515456e-04]\n",
            " [2.49154658e-03]\n",
            " [8.82756946e-04]\n",
            " [2.78719421e-03]\n",
            " [8.50000773e-02]\n",
            " [2.48226472e-02]\n",
            " [2.77969482e-01]\n",
            " [4.21217971e-02]\n",
            " [1.06656119e-03]\n",
            " [8.19046761e-04]\n",
            " [2.59547356e-02]\n",
            " [2.19244822e-04]\n",
            " [7.68864298e-03]\n",
            " [6.11097773e-03]\n",
            " [1.73254481e-03]\n",
            " [1.43476013e-02]\n",
            " [2.44760111e-03]\n",
            " [4.05764812e-03]\n",
            " [1.98008964e-01]\n",
            " [6.30154857e-03]\n",
            " [8.52746345e-04]\n",
            " [2.60369120e-02]\n",
            " [3.95086918e-03]\n",
            " [5.36179928e-02]\n",
            " [1.38806375e-02]\n",
            " [4.02052066e-03]\n",
            " [9.43568284e-04]\n",
            " [9.97611254e-03]\n",
            " [2.45128178e-03]\n",
            " [1.04323863e-03]\n",
            " [8.43203708e-04]\n",
            " [1.06015350e-02]\n",
            " [1.75401491e-03]\n",
            " [4.45414297e-02]\n",
            " [1.50172326e-04]\n",
            " [1.19135764e-01]\n",
            " [5.98775864e-02]\n",
            " [1.42504313e-02]\n",
            " [8.66589404e-02]\n",
            " [2.86913388e-02]\n",
            " [5.07921898e-01]\n",
            " [8.02619664e-04]\n",
            " [3.64039403e-03]\n",
            " [6.66033995e-01]\n",
            " [3.27412713e-02]\n",
            " [6.13740797e-03]\n",
            " [4.92789226e-02]]\n"
          ]
        },
        {
          "output_type": "execute_result",
          "data": {
            "text/plain": [
              "array([[False],\n",
              "       [False],\n",
              "       [False],\n",
              "       [False],\n",
              "       [False],\n",
              "       [False],\n",
              "       [False],\n",
              "       [False],\n",
              "       [False],\n",
              "       [False],\n",
              "       [False],\n",
              "       [False],\n",
              "       [False],\n",
              "       [False],\n",
              "       [False],\n",
              "       [False],\n",
              "       [False],\n",
              "       [False],\n",
              "       [False],\n",
              "       [False],\n",
              "       [False],\n",
              "       [False],\n",
              "       [False],\n",
              "       [False],\n",
              "       [False],\n",
              "       [False],\n",
              "       [False],\n",
              "       [False],\n",
              "       [False],\n",
              "       [False],\n",
              "       [False],\n",
              "       [False],\n",
              "       [False],\n",
              "       [False],\n",
              "       [False],\n",
              "       [False],\n",
              "       [False],\n",
              "       [False],\n",
              "       [False],\n",
              "       [False],\n",
              "       [False],\n",
              "       [False],\n",
              "       [False],\n",
              "       [False],\n",
              "       [False],\n",
              "       [False],\n",
              "       [False],\n",
              "       [False],\n",
              "       [False],\n",
              "       [False],\n",
              "       [False],\n",
              "       [False],\n",
              "       [False],\n",
              "       [False],\n",
              "       [False],\n",
              "       [False],\n",
              "       [False],\n",
              "       [False],\n",
              "       [False],\n",
              "       [False],\n",
              "       [False],\n",
              "       [False],\n",
              "       [False],\n",
              "       [False],\n",
              "       [False],\n",
              "       [False],\n",
              "       [False],\n",
              "       [False],\n",
              "       [False],\n",
              "       [False],\n",
              "       [False],\n",
              "       [False],\n",
              "       [False],\n",
              "       [False],\n",
              "       [False],\n",
              "       [False],\n",
              "       [False],\n",
              "       [False],\n",
              "       [False],\n",
              "       [False],\n",
              "       [False],\n",
              "       [False],\n",
              "       [False],\n",
              "       [False],\n",
              "       [False],\n",
              "       [False],\n",
              "       [False],\n",
              "       [False],\n",
              "       [False],\n",
              "       [False],\n",
              "       [False],\n",
              "       [False],\n",
              "       [False],\n",
              "       [ True],\n",
              "       [False],\n",
              "       [False],\n",
              "       [ True],\n",
              "       [False],\n",
              "       [False],\n",
              "       [False]])"
            ]
          },
          "metadata": {},
          "execution_count": 150
        }
      ]
    }
  ]
}